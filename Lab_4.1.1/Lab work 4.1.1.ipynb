{
 "cells": [
  {
   "cell_type": "code",
   "execution_count": 99,
   "metadata": {},
   "outputs": [
    {
     "name": "stdout",
     "output_type": "stream",
     "text": [
      "{'01': {'Avg': 24.119, 'Std': 0.372}, '02': {'Avg': 24.597, 'Std': 0.184}, '03': {'Avg': 26.412, 'Std': 1.422}, '04': {'Avg': 27.225, 'Std': 0.206}, '05': {'Avg': 26.814, 'Std': 0.135}, '06': {'Avg': 26.707, 'Std': 0.072}, '07': {'Avg': 27.313, 'Std': 0.364}, '08': {'Avg': 27.521, 'Std': 0.148}, '09': {'Avg': 27.977, 'Std': 0.237}, '10': {'Avg': 28.325, 'Std': 0.056}, '11': {'Avg': 28.31, 'Std': 0.148}, '12': {'Avg': 28.17, 'Std': 0.25}}\n"
     ]
    }
   ],
   "source": [
    "# Lab work 4.1.1\n",
    "# Подключиться к сайту НБУ, получить курс доллара за последний год\n",
    "# Вывести среднее значение курса и отклонения курса за каждый месяц\n",
    "# Записать результаты в файл с помощью pickle\n",
    "\n",
    "import datetime\n",
    "import requests\n",
    "import pickle\n",
    "# Словарь из списков курса за каждый день по месяцам\n",
    "all_currency = {'01':[], '02':[], '03':[], '04':[], '05':[], '06':[], '07':[], '08':[], '09':[], '10':[], '11':[], '12':[]}\n",
    "# Словарь с результатами\n",
    "all_results = {}\n",
    "\n",
    "def req(href):\n",
    "    r = requests.get(href)\n",
    "    from bs4 import BeautifulSoup\n",
    "    soup = BeautifulSoup(r.text, 'lxml')\n",
    "    return soup\n",
    "\n",
    "# Дата начала выборки\n",
    "d_start = datetime.date(2020, 1, 1)\n",
    "# Дата конца выборки\n",
    "d_end = datetime.date(2020, 12, 31)\n",
    "days = [d_start + datetime.timedelta(days=x) for x in range((d_end-d_start).days + 1)]\n",
    "\n",
    "# Формируем запрос, забираем курс на дату и сохраняем в словарь\n",
    "for day in days:\n",
    "    href = 'https://bank.gov.ua/NBUStatService/v1/statdirectory/exchangenew?valcode=USD&date='+day.strftime('%Y%m%d')\n",
    "    soup = req(href)\n",
    "    all_currency[day.strftime('%m')].append(float(soup.find ('rate').text))\n",
    "\n",
    "# print(all_currency)\n",
    "\n",
    "for el in all_currency:\n",
    "    # Avg вычисляем среднее арифметическое выборки за  месяц\n",
    "    AvgX = (sum(all_currency[el]) / len(all_currency[el]))\n",
    "    # отнимаем это среднее от каждого элемента выборки за месяц\n",
    "    all_currency[el] = list(map(lambda x: x-AvgX, all_currency[el]))\n",
    "    # все полученные разницы возводим в квадрат\n",
    "    all_currency[el] = list(map(lambda x: x**2, all_currency[el]))\n",
    "    # суммируем все полученные квадраты\n",
    "    x= sum(all_currency[el])\n",
    "    # делим полученную сумму на количество элементов в выборке (или на n-1, если n>30)\n",
    "    # и вычисляем квадратный корень из полученного частного (именуемого дисперсией)\n",
    "    if len(all_currency[el]) > 30:\n",
    "        all_results[el] = {'Avg': round(AvgX, 3), 'Std': round((x / (len(all_currency[el]) - 1)) ** 0.5, 3)}\n",
    "    else:\n",
    "        all_results[el] = {'Avg': round(AvgX, 3), 'Std': round((x / (len(all_currency[el]))) ** 0.5, 3)}\n",
    "print (all_results)\n",
    "\n",
    "# Запись результата в файл с помощью pickle\n",
    "with open('data_out.pickle', 'wb') as f:\n",
    "    pickle.dump(all_results, f)\n",
    "    "
   ]
  },
  {
   "cell_type": "code",
   "execution_count": 100,
   "metadata": {},
   "outputs": [
    {
     "name": "stdout",
     "output_type": "stream",
     "text": [
      "{'01': {'Avg': 24.119, 'Std': 0.366}, '02': {'Avg': 24.597, 'Std': 0.184}, '03': {'Avg': 26.412, 'Std': 1.399}, '04': {'Avg': 27.225, 'Std': 0.206}, '05': {'Avg': 26.814, 'Std': 0.133}, '06': {'Avg': 26.707, 'Std': 0.072}, '07': {'Avg': 27.313, 'Std': 0.358}, '08': {'Avg': 27.521, 'Std': 0.146}, '09': {'Avg': 27.977, 'Std': 0.237}, '10': {'Avg': 28.325, 'Std': 0.055}, '11': {'Avg': 28.31, 'Std': 0.148}, '12': {'Avg': 28.17, 'Std': 0.246}}\n"
     ]
    }
   ],
   "source": [
    "# Lab work 4.1.1 второй вариант с модулем NUMPY\n",
    "# Подключиться к сайту НБУ, получить курс доллара за последний год\n",
    "# Вывести среднее значение курса и отклонения курса за каждый месяц\n",
    "# Записать результаты в файл с помощью pickle\n",
    "\n",
    "import datetime\n",
    "import requests\n",
    "import pickle\n",
    "import numpy as np\n",
    "# Словарь из списков курса за каждый день по месяцам\n",
    "all_currency = {'01':[], '02':[], '03':[], '04':[], '05':[], '06':[], '07':[], '08':[], '09':[], '10':[], '11':[], '12':[]}\n",
    "# Словарь с результатами\n",
    "all_results = {}\n",
    "\n",
    "def req(href):\n",
    "    r = requests.get(href)\n",
    "    from bs4 import BeautifulSoup\n",
    "    soup = BeautifulSoup(r.text, 'lxml')\n",
    "    return soup\n",
    "\n",
    "# Дата начала выборки\n",
    "d_start = datetime.date(2020, 1, 1)\n",
    "# Дата конца выборки\n",
    "d_end = datetime.date(2020, 12, 31)\n",
    "days = [d_start + datetime.timedelta(days=x) for x in range((d_end-d_start).days + 1)]\n",
    "\n",
    "# Формируем запрос, забираем курс на дату и сохраняем в словарь\n",
    "for day in days:\n",
    "    href = 'https://bank.gov.ua/NBUStatService/v1/statdirectory/exchangenew?valcode=USD&date='+day.strftime('%Y%m%d')\n",
    "    soup = req(href)\n",
    "    all_currency[day.strftime('%m')].append(float(soup.find ('rate').text))\n",
    "\n",
    "# print(all_currency)\n",
    "\n",
    "for el in all_currency:\n",
    "    # Avg вычисляем среднее арифметическое выборки за  месяц\n",
    "    AvgX = np.mean(all_currency[el])\n",
    "    # вычисляем среднеквадратичное отклонение значений за месяц\n",
    "    StdX = np.std(all_currency[el])\n",
    "    # запись результатов\n",
    "    all_results[el] = {'Avg': round(AvgX, 3), 'Std': round(StdX, 3)}\n",
    "\n",
    "print (all_results)\n",
    "\n",
    "# Запись результата в файл с помощью pickle\n",
    "with open('data_out.pickle', 'wb') as f:\n",
    "    pickle.dump(all_results, f)"
   ]
  },
  {
   "cell_type": "code",
   "execution_count": null,
   "metadata": {},
   "outputs": [],
   "source": []
  }
 ],
 "metadata": {
  "kernelspec": {
   "display_name": "Python 3",
   "language": "python",
   "name": "python3"
  },
  "language_info": {
   "codemirror_mode": {
    "name": "ipython",
    "version": 3
   },
   "file_extension": ".py",
   "mimetype": "text/x-python",
   "name": "python",
   "nbconvert_exporter": "python",
   "pygments_lexer": "ipython3",
   "version": "3.8.3"
  }
 },
 "nbformat": 4,
 "nbformat_minor": 4
}
