{
 "cells": [
  {
   "cell_type": "code",
   "execution_count": 26,
   "metadata": {},
   "outputs": [
    {
     "name": "stdout",
     "output_type": "stream",
     "text": [
      "{1: {'title': 'Apple переносить презентацію iPhone 13: коли ми побачимо новинку', 'time': '13:59, 18 січня 2021', 'href': 'https://www.unian.ua/economics/telecom/prezentaciyu-iphone-13-perenesli-na-rik-novini-11288765.html'}, 2: {'title': 'У США пройшли випробування ударного безпілотника з інфрачервоною пошуковою системою', 'time': '13:40, 18 січня 2021', 'href': 'https://www.unian.ua/weapons/u-ssha-viprobuvali-udarniy-bezpilotnik-avenger-ostanni-novini-11288723.html'}, 3: {'title': \"Нове покоління роутерів: як високошвидкісне з'єднання може зіграти на руку хакерам\", 'time': '12:57, 18 січня 2021', 'href': 'https://www.unian.ua/science/nove-pokolinnya-routeriv-yak-visokoshvidkisne-z-yednannya-mozhe-zigrati-na-ruku-hakeram-novini-11288645.html'}, 4: {'title': 'Справа у відстані: науковці відшукали головний секрет щасливих пар', 'time': '12:20, 18 січня 2021', 'href': 'https://www.unian.ua/health/intimacy/sekret-shchaslivogo-shlyubu-naukovci-vidshukali-golovniy-sekret-shchaslivih-par-11288588.html'}, 5: {'title': '\"Ви будете часто чути його ім\\'я\": розробники розкрили нові подробиці про S.T.A.L.K.E.R. 2', 'time': '10:19, 18 січня 2021', 'href': 'https://www.unian.ua/games/stalker-2-avtori-rozpovili-pro-golovnogo-geroya-sikvela-igri-11288393.html'}, 6: {'title': \"Противники 5G спалили вишку у Франції: без зв'язку залишилися 1,5 мільйона людей (фото)\", 'time': '02:40, 18 січня 2021', 'href': 'https://www.unian.ua/world/protivniki-5g-spalili-vishku-u-franciji-foto-novini-svitu-11288243.html'}, 7: {'title': 'Facebook створив систему для прогнозування стану хворого на коронавірус', 'time': '04:05, 17 січня 2021', 'href': 'https://covid.unian.ua/feysbuk-facebook-stvoriv-sistemu-dlya-prognozuvannya-stanu-hvorogo-na-koronavirus-11287478.html'}, 8: {'title': 'Експерти приголомшили наслідками \"революції роботів\"', 'time': '13:14, 16 січня 2021', 'href': 'https://www.unian.ua/science/eksperti-rozpovili-chogo-chekati-nayblizhchim-chasom-cherez-nashestya-robotiv-novini-11287388.html'}, 9: {'title': 'Facebook \"заморозив\" можливість створювати події поблизу місць інавгурації Байдена', 'time': '08:32, 16 січня 2021', 'href': 'https://www.unian.ua/world/inavguraciya-baydena-facebook-zamoroziv-mozhlivist-stvoryuvati-podiji-bilya-bilogo-domu-novini-svitu-11287253.html'}, 10: {'title': 'Акаунти Трампа у Facebook та Instagram раптово розблокували', 'time': '04:08, 16 січня 2021', 'href': 'https://www.unian.ua/world/akaunti-trampa-u-facebook-ta-instagram-raptovo-rozblokuvali-novini-svitu-11287238.html'}}\n"
     ]
    }
   ],
   "source": [
    "#Lab work 4.1.2\n",
    "#При помощи bs4 получить 10 новостей из раздела \"Все новости науки\" и сайта https://www.unian.ua/science\n",
    "#Загрузить название, дату и ссылку на новость и сохранить результат в файл .json\n",
    "\n",
    "\n",
    "import requests\n",
    "import json\n",
    "href = 'https://www.unian.ua/science' # start page from site\n",
    "\n",
    "all_news = {}\n",
    "\n",
    "def req(href):\n",
    "    r = requests.get(href)\n",
    "    from bs4 import BeautifulSoup\n",
    "    soup = BeautifulSoup(r.text, 'html.parser')\n",
    "    return soup\n",
    "\n",
    "\n",
    "soup = req(href)\n",
    "x=1 #count of news\n",
    "for el in soup.find ('div', class_='list-thumbs'):\n",
    "    if x>10:\n",
    "        break\n",
    "    all_news[x] = { 'title': (el.find ('a', class_='list-thumbs__title').text).strip(),\n",
    "                    'time': el.find ('div', class_='list-thumbs__time time').text,\n",
    "                    'href': el.find ('a', class_='list-thumbs__title').get('href')}\n",
    "    x=x+1\n",
    "print (all_news)\n",
    "with open('Lab_4.1.2.json', 'w', encoding=\"utf-8\") as write_file:\n",
    "    json.dump(all_news, write_file, ensure_ascii=False, indent=4) \n"
   ]
  },
  {
   "cell_type": "code",
   "execution_count": null,
   "metadata": {},
   "outputs": [],
   "source": []
  }
 ],
 "metadata": {
  "kernelspec": {
   "display_name": "Python 3",
   "language": "python",
   "name": "python3"
  },
  "language_info": {
   "codemirror_mode": {
    "name": "ipython",
    "version": 3
   },
   "file_extension": ".py",
   "mimetype": "text/x-python",
   "name": "python",
   "nbconvert_exporter": "python",
   "pygments_lexer": "ipython3",
   "version": "3.8.3"
  }
 },
 "nbformat": 4,
 "nbformat_minor": 4
}
