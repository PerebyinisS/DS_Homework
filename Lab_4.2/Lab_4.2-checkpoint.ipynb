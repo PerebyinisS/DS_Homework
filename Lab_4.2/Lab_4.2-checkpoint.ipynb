{
 "cells": [
  {
   "cell_type": "code",
   "execution_count": 9,
   "metadata": {},
   "outputs": [],
   "source": [
    "# Lab 4.2\n",
    "\n",
    "import sqlite3\n",
    "\n",
    "def result(sql_text):\n",
    "    conn = sqlite3.connect('tysql.sqlite')\n",
    "    curs = conn.cursor()\n",
    "    curs.execute(sql_text)\n",
    "\n",
    "    for row in curs.fetchall():\n",
    "        print(row)\n",
    "\n",
    "    conn.close()\n"
   ]
  },
  {
   "cell_type": "code",
   "execution_count": 10,
   "metadata": {},
   "outputs": [
    {
     "name": "stdout",
     "output_type": "stream",
     "text": [
      "('table', 'Customers', 'Customers', 2, 'CREATE TABLE Customers\\n(\\n  cust_id      char(10)  NOT NULL ,\\n  cust_name    char(50)  NOT NULL ,\\n  cust_address char(50)  NULL ,\\n  cust_city    char(50)  NULL ,\\n  cust_state   char(5)   NULL ,\\n  cust_zip     char(10)  NULL ,\\n  cust_country char(50)  NULL ,\\n  cust_contact char(50)  NULL ,\\n  cust_email   char(255) NULL ,\\n  PRIMARY KEY (cust_id)\\n)')\n",
      "('index', 'sqlite_autoindex_Customers_1', 'Customers', 3, None)\n",
      "('table', 'OrderItems', 'OrderItems', 4, 'CREATE TABLE OrderItems\\n(\\n  order_num  int          NOT NULL                      ,\\n  order_item int          NOT NULL                      ,\\n  prod_id    char(10)     NOT NULL                      ,\\n  quantity   int          NOT NULL                      ,\\n  item_price decimal(8,2) NOT NULL                      ,\\n  PRIMARY KEY (order_num, order_item)                   ,\\n  FOREIGN KEY (order_num) REFERENCES Orders (order_num) ,\\n  FOREIGN KEY (prod_id) REFERENCES Products (prod_id)\\n)')\n",
      "('index', 'sqlite_autoindex_OrderItems_1', 'OrderItems', 5, None)\n",
      "('table', 'Orders', 'Orders', 7, 'CREATE TABLE Orders\\n(\\n  order_num  int      NOT NULL ,\\n  order_date datetime NOT NULL ,\\n  cust_id    char(10) NOT NULL ,\\n  PRIMARY KEY (order_num)      ,\\n  FOREIGN KEY (cust_id) REFERENCES Customers (cust_id)\\n)')\n",
      "('index', 'sqlite_autoindex_Orders_1', 'Orders', 9, None)\n",
      "('table', 'Products', 'Products', 10, 'CREATE TABLE Products\\n(\\n  prod_id    char(10)      NOT NULL ,\\n  vend_id    char(10)      NOT NULL ,\\n  prod_name  char(255)     NOT NULL ,\\n  prod_price decimal(8,2)  NOT NULL ,\\n  prod_desc  text          NULL     ,\\n  PRIMARY KEY (prod_id)             ,\\n  FOREIGN KEY (vend_id) REFERENCES Vendors (vend_id)\\n)')\n",
      "('index', 'sqlite_autoindex_Products_1', 'Products', 11, None)\n",
      "('table', 'Vendors', 'Vendors', 12, 'CREATE TABLE Vendors\\n(\\n  vend_id      char(10) NOT NULL ,\\n  vend_name    char(50) NOT NULL ,\\n  vend_address char(50) NULL     ,\\n  vend_city    char(50) NULL     ,\\n  vend_state   char(5)  NULL     ,\\n  vend_zip     char(10) NULL     ,\\n  vend_country char(50) NULL     ,\\n  PRIMARY KEY (vend_id)\\n)')\n",
      "('index', 'sqlite_autoindex_Vendors_1', 'Vendors', 13, None)\n"
     ]
    }
   ],
   "source": [
    "# Информация про БД\n",
    "script_1 = \"\"\"\n",
    "SELECT * FROM sqlite_master\n",
    "\"\"\"\n",
    "\n",
    "result(script_1)"
   ]
  },
  {
   "cell_type": "code",
   "execution_count": 15,
   "metadata": {},
   "outputs": [
    {
     "name": "stdout",
     "output_type": "stream",
     "text": [
      "('Customers',)\n",
      "('OrderItems',)\n",
      "('Orders',)\n",
      "('Products',)\n",
      "('Vendors',)\n"
     ]
    }
   ],
   "source": [
    "# Список всех таблиц БД\n",
    "script_2 = \"\"\"\n",
    "SELECT tbl_name FROM sqlite_master WHERE type='table'\n",
    "\"\"\"\n",
    "\n",
    "result(script_2)"
   ]
  },
  {
   "cell_type": "code",
   "execution_count": 13,
   "metadata": {},
   "outputs": [
    {
     "name": "stdout",
     "output_type": "stream",
     "text": [
      "('1000000001',)\n",
      "('1000000002',)\n",
      "('1000000003',)\n",
      "('1000000004',)\n",
      "('1000000005',)\n"
     ]
    }
   ],
   "source": [
    "# Список всех cust_id таблицы Customers\n",
    "script = \"\"\"\n",
    "SELECT cust_id FROM Customers\n",
    "\"\"\"\n",
    "\n",
    "result(script)"
   ]
  },
  {
   "cell_type": "code",
   "execution_count": 14,
   "metadata": {},
   "outputs": [
    {
     "name": "stdout",
     "output_type": "stream",
     "text": [
      "('1000000001', 'Village Toys', '200 Maple Lane', 'Detroit', 'MI', '44444', 'USA', 'John Smith', 'sales@villagetoys.com')\n",
      "('1000000002', 'Kids Place', '333 South Lake Drive', 'Columbus', 'OH', '43333', 'USA', 'Michelle Green', None)\n",
      "('1000000003', 'Fun4All', '1 Sunny Place', 'Muncie', 'IN', '42222', 'USA', 'Jim Jones', 'jjones@fun4all.com')\n",
      "('1000000004', 'Fun4All', '829 Riverside Drive', 'Phoenix', 'AZ', '88888', 'USA', 'Denise L. Stephens', 'dstephens@fun4all.com')\n",
      "('1000000005', 'The Toy Store', '4545 53rd Street', 'Chicago', 'IL', '54545', 'USA', 'Kim Howard', None)\n"
     ]
    }
   ],
   "source": [
    "# Вывести всю таблицу Customers\n",
    "script = \"\"\"\n",
    "SELECT * FROM Customers\n",
    "\"\"\"\n",
    "\n",
    "result(script)"
   ]
  },
  {
   "cell_type": "code",
   "execution_count": 17,
   "metadata": {},
   "outputs": [
    {
     "name": "stdout",
     "output_type": "stream",
     "text": [
      "('Village Toys',)\n",
      "('The Toy Store',)\n",
      "('Kids Place',)\n",
      "('Fun4All',)\n",
      "('Fun4All',)\n"
     ]
    }
   ],
   "source": [
    "# Список клиентов cust_name сортировка от Z до A\n",
    "script = \"\"\"\n",
    "SELECT cust_name FROM Customers ORDER BY cust_name DESC\n",
    "\"\"\"\n",
    "\n",
    "result(script)"
   ]
  },
  {
   "cell_type": "code",
   "execution_count": 19,
   "metadata": {},
   "outputs": [
    {
     "name": "stdout",
     "output_type": "stream",
     "text": [
      "(20009, '2012-02-08', '1000000001')\n",
      "(20005, '2012-05-01', '1000000001')\n",
      "(20006, '2012-01-12', '1000000003')\n",
      "(20007, '2012-01-30', '1000000004')\n",
      "(20008, '2012-02-03', '1000000005')\n"
     ]
    }
   ],
   "source": [
    "# Таблица клиентов и заказов (cust_id, order_num). Сортировка по по клиенту и затем по дате\n",
    "script = \"\"\"\n",
    "SELECT * FROM Orders ORDER BY cust_id ASC, order_date ASC\n",
    "\"\"\"\n",
    "\n",
    "result(script)"
   ]
  },
  {
   "cell_type": "code",
   "execution_count": 20,
   "metadata": {},
   "outputs": [
    {
     "name": "stdout",
     "output_type": "stream",
     "text": [
      "(250, 2.49)\n",
      "(250, 2.49)\n",
      "(250, 2.49)\n",
      "(100, 10.99)\n",
      "(100, 5.49)\n",
      "(100, 2.99)\n",
      "(100, 2.99)\n",
      "(100, 2.99)\n",
      "(50, 11.49)\n",
      "(50, 4.49)\n",
      "(20, 5.99)\n",
      "(10, 11.99)\n",
      "(10, 8.99)\n",
      "(10, 3.49)\n",
      "(10, 3.49)\n",
      "(10, 3.49)\n",
      "(5, 11.99)\n",
      "(5, 4.99)\n"
     ]
    }
   ],
   "source": [
    "# Таблица (на основе items) c кол-вом и стоимостью товаром. Сортировка в порядке уменьшения кол-ва , а затем стоимости\n",
    "script = \"\"\"\n",
    "SELECT quantity, item_price FROM OrderItems ORDER BY quantity DESC, item_price DESC\n",
    "\"\"\"\n",
    "\n",
    "result(script)"
   ]
  },
  {
   "cell_type": "code",
   "execution_count": 21,
   "metadata": {},
   "outputs": [
    {
     "name": "stdout",
     "output_type": "stream",
     "text": [
      "('King doll',)\n",
      "('Queen doll',)\n"
     ]
    }
   ],
   "source": [
    "# Товар, цена которого равна 9.49\n",
    "script = \"\"\"\n",
    "SELECT prod_name FROM Products WHERE prod_price = '9.49'\n",
    "\"\"\"\n",
    "\n",
    "result(script)"
   ]
  },
  {
   "cell_type": "code",
   "execution_count": 23,
   "metadata": {},
   "outputs": [
    {
     "name": "stdout",
     "output_type": "stream",
     "text": [
      "('Fish bean bag toy', 3.49)\n",
      "('Bird bean bag toy', 3.49)\n",
      "('Rabbit bean bag toy', 3.49)\n",
      "('Raggedy Ann', 4.99)\n",
      "('8 inch teddy bear', 5.99)\n"
     ]
    }
   ],
   "source": [
    "# Товар, цена которого в диапазоне 3 до 6, сортировка по возрастанию цены\n",
    "script = \"\"\"\n",
    "SELECT prod_name, prod_price FROM Products WHERE prod_price >= 3 AND prod_price <= 6 ORDER BY prod_price ASC\n",
    "\"\"\"\n",
    "\n",
    "result(script)"
   ]
  },
  {
   "cell_type": "code",
   "execution_count": 24,
   "metadata": {},
   "outputs": [
    {
     "name": "stdout",
     "output_type": "stream",
     "text": [
      "(1430,)\n"
     ]
    }
   ],
   "source": [
    "# кол-во проданного товара\n",
    "script = \"\"\"\n",
    "SELECT SUM (quantity) FROM OrderItems\n",
    "\"\"\"\n",
    "\n",
    "result(script)"
   ]
  },
  {
   "cell_type": "code",
   "execution_count": 25,
   "metadata": {},
   "outputs": [
    {
     "name": "stdout",
     "output_type": "stream",
     "text": [
      "(6,)\n"
     ]
    }
   ],
   "source": [
    "# кол-во наименований товара, цена которого  больше 4\n",
    "script = \"\"\"\n",
    "SELECT count (prod_name) FROM Products WHERE prod_price > 4\n",
    "\"\"\"\n",
    "\n",
    "result(script)"
   ]
  },
  {
   "cell_type": "code",
   "execution_count": 26,
   "metadata": {},
   "outputs": [
    {
     "name": "stdout",
     "output_type": "stream",
     "text": [
      "('18 inch teddy bear',)\n",
      "('King doll',)\n",
      "('Queen doll',)\n"
     ]
    }
   ],
   "source": [
    "# Вывести три наиболее дорогих товара\n",
    "script = \"\"\"\n",
    "SELECT prod_name FROM Products ORDER BY prod_price DESC LIMIT 3\n",
    "\"\"\"\n",
    "\n",
    "result(script)"
   ]
  },
  {
   "cell_type": "code",
   "execution_count": 27,
   "metadata": {},
   "outputs": [
    {
     "name": "stdout",
     "output_type": "stream",
     "text": [
      "('1000000001', 2)\n",
      "('1000000003', 1)\n",
      "('1000000004', 1)\n",
      "('1000000005', 1)\n"
     ]
    }
   ],
   "source": [
    "# Кол-во заказов для каждого клиента\n",
    "script = \"\"\"\n",
    "SELECT DISTINCT cust_id, count (order_num) FROM Orders GROUP BY cust_id\n",
    "\"\"\"\n",
    "\n",
    "result(script)"
   ]
  },
  {
   "cell_type": "code",
   "execution_count": 28,
   "metadata": {},
   "outputs": [
    {
     "name": "stdout",
     "output_type": "stream",
     "text": [
      "('Village Toys', 20005)\n",
      "('Fun4All', 20006)\n",
      "('Fun4All', 20007)\n",
      "('The Toy Store', 20008)\n",
      "('Village Toys', 20009)\n"
     ]
    }
   ],
   "source": [
    "# Список клиентов и их заказы\n",
    "script = \"\"\"\n",
    "SELECT cust_name, Orders.order_num FROM Customers INNER JOIN Orders ON Customers.cust_id = Orders.cust_id\n",
    "\"\"\"\n",
    "\n",
    "result(script)"
   ]
  },
  {
   "cell_type": "code",
   "execution_count": 29,
   "metadata": {},
   "outputs": [
    {
     "name": "stdout",
     "output_type": "stream",
     "text": [
      "('Fish bean bag toy', 3.49)\n",
      "('Bird bean bag toy', 3.49)\n",
      "('Rabbit bean bag toy', 3.49)\n",
      "('Raggedy Ann', 4.99)\n",
      "('8 inch teddy bear', 5.99)\n",
      "('12 inch teddy bear', 8.99)\n",
      "('18 inch teddy bear', 11.99)\n",
      "('King doll', 9.49)\n",
      "('Queen doll', 9.49)\n"
     ]
    }
   ],
   "source": [
    "# Два запроса: список товаров, цена которых меньше 5 и список товаров, цена которых больше либо равна 5. Используя UNION объединить запросы\n",
    "script = \"\"\"\n",
    "SELECT prod_name, prod_price FROM Products WHERE prod_price < '5'\n",
    "UNION ALL\n",
    "SELECT prod_name, prod_price FROM Products WHERE prod_price >= '5'\n",
    "\"\"\"\n",
    "\n",
    "result(script)"
   ]
  },
  {
   "cell_type": "code",
   "execution_count": null,
   "metadata": {},
   "outputs": [],
   "source": []
  }
 ],
 "metadata": {
  "kernelspec": {
   "display_name": "Python 3",
   "language": "python",
   "name": "python3"
  },
  "language_info": {
   "codemirror_mode": {
    "name": "ipython",
    "version": 3
   },
   "file_extension": ".py",
   "mimetype": "text/x-python",
   "name": "python",
   "nbconvert_exporter": "python",
   "pygments_lexer": "ipython3",
   "version": "3.8.3"
  }
 },
 "nbformat": 4,
 "nbformat_minor": 4
}
